{
 "cells": [
  {
   "cell_type": "markdown",
   "id": "9422f463",
   "metadata": {},
   "source": [
    "# 🔧 Function Calling Example"
   ]
  },
  {
   "cell_type": "code",
   "execution_count": null,
   "id": "712a8dd3",
   "metadata": {},
   "outputs": [],
   "source": [
    "import openai\n",
    "\n",
    "functions = [\n",
    "    {\n",
    "        \"name\": \"get_current_weather\",\n",
    "        \"description\": \"Get weather in a given city\",\n",
    "        \"parameters\": {\n",
    "            \"type\": \"object\",\n",
    "            \"properties\": {\n",
    "                \"location\": {\"type\": \"string\", \"description\": \"City name\"}\n",
    "            },\n",
    "            \"required\": [\"location\"]\n",
    "        }\n",
    "    }\n",
    "]\n",
    "\n",
    "response = openai.ChatCompletion.create(\n",
    "    model=\"gpt-4-turbo\",\n",
    "    messages=[\n",
    "        {\"role\": \"user\", \"content\": \"What's the weather like in Paris?\"}\n",
    "    ],\n",
    "    functions=functions,\n",
    "    function_call=\"auto\"\n",
    ")\n",
    "print(response.choices[0])"
   ]
  }
 ],
 "metadata": {},
 "nbformat": 4,
 "nbformat_minor": 5
}
