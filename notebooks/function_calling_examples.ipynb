{
 "cells": [
  {
   "cell_type": "markdown",
   "id": "33e0b11b",
   "metadata": {},
   "source": [
    "# 🛠️ Function Calling with OpenAI API\n",
    "\n",
    "Demonstrate how GPT-4-turbo can decide when to call a function and pass structured arguments."
   ]
  },
  {
   "cell_type": "markdown",
   "id": "e5289e26",
   "metadata": {},
   "source": [
    "## 🔧 Setup"
   ]
  },
  {
   "cell_type": "code",
   "execution_count": null,
   "id": "26e61b1e",
   "metadata": {},
   "outputs": [],
   "source": [
    "!pip install openai --quiet\n",
    "import openai\n",
    "import os\n",
    "\n",
    "openai.api_key = os.getenv(\"OPENAI_API_KEY\", \"sk-...\")  # Replace or load securely\n"
   ]
  },
  {
   "cell_type": "markdown",
   "id": "fc0f5263",
   "metadata": {},
   "source": [
    "## 🔍 Define a Simple Tool: get_current_weather"
   ]
  },
  {
   "cell_type": "code",
   "execution_count": null,
   "id": "c37ce277",
   "metadata": {},
   "outputs": [],
   "source": [
    "functions = [\n",
    "    {\n",
    "        \"name\": \"get_current_weather\",\n",
    "        \"description\": \"Get the weather in a given location\",\n",
    "        \"parameters\": {\n",
    "            \"type\": \"object\",\n",
    "            \"properties\": {\n",
    "                \"location\": {\"type\": \"string\", \"description\": \"City name\"},\n",
    "                \"unit\": {\"type\": \"string\", \"enum\": [\"celsius\", \"fahrenheit\"]}\n",
    "            },\n",
    "            \"required\": [\"location\"]\n",
    "        }\n",
    "    }\n",
    "]"
   ]
  },
  {
   "cell_type": "markdown",
   "id": "db1e79d6",
   "metadata": {},
   "source": [
    "## 💬 User Asks a Question"
   ]
  },
  {
   "cell_type": "code",
   "execution_count": null,
   "id": "322e75e9",
   "metadata": {},
   "outputs": [],
   "source": [
    "messages = [\n",
    "    {\"role\": \"user\", \"content\": \"What's the weather like in San Francisco in Celsius?\"}\n",
    "]\n",
    "\n",
    "response = openai.ChatCompletion.create(\n",
    "    model=\"gpt-4-turbo\",\n",
    "    messages=messages,\n",
    "    functions=functions,\n",
    "    function_call=\"auto\"  # Let the model decide\n",
    ")\n",
    "\n",
    "print(response.choices[0].message)"
   ]
  },
  {
   "cell_type": "markdown",
   "id": "0039eace",
   "metadata": {},
   "source": [
    "## 🧠 Simulate Tool Execution and Re-invoke Model"
   ]
  },
  {
   "cell_type": "code",
   "execution_count": null,
   "id": "d014c002",
   "metadata": {},
   "outputs": [],
   "source": [
    "function_args = response.choices[0].message.get('function_call', {}).get('arguments', '{}')\n",
    "print(\"Called with arguments:\", function_args)\n",
    "\n",
    "# Simulate function result\n",
    "fake_result = {\n",
    "    \"location\": \"San Francisco\",\n",
    "    \"temperature\": \"18\",\n",
    "    \"unit\": \"celsius\",\n",
    "    \"condition\": \"partly cloudy\"\n",
    "}\n",
    "\n",
    "messages.append(response.choices[0].message)  # Add function_call step\n",
    "messages.append({\n",
    "    \"role\": \"function\",\n",
    "    \"name\": \"get_current_weather\",\n",
    "    \"content\": str(fake_result)\n",
    "})\n",
    "\n",
    "final_response = openai.ChatCompletion.create(\n",
    "    model=\"gpt-4-turbo\",\n",
    "    messages=messages\n",
    ")\n",
    "\n",
    "print(\"🔁 Final Model Response:\")\n",
    "print(final_response.choices[0].message['content'])"
   ]
  },
  {
   "cell_type": "markdown",
   "id": "f1b91d45",
   "metadata": {},
   "source": [
    "## ✅ Summary\n",
    "- You defined a structured function\n",
    "- Let GPT decide when to call it\n",
    "- Simulated the function execution\n",
    "- Continued the conversation with the result"
   ]
  }
 ],
 "metadata": {},
 "nbformat": 4,
 "nbformat_minor": 5
}
