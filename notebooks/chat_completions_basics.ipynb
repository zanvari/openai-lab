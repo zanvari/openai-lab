{
 "cells": [
  {
   "cell_type": "markdown",
   "id": "806457a4",
   "metadata": {},
   "source": [
    "# 💬 Chat Completions Basics"
   ]
  },
  {
   "cell_type": "code",
   "execution_count": null,
   "id": "3cfc4a41",
   "metadata": {},
   "outputs": [],
   "source": [
    "import openai\n",
    "\n",
    "response = openai.ChatCompletion.create(\n",
    "    model=\"gpt-4-turbo\",\n",
    "    messages=[\n",
    "        {\"role\": \"system\", \"content\": \"You are a helpful assistant.\"},\n",
    "        {\"role\": \"user\", \"content\": \"Tell me a fun fact about space.\"}\n",
    "    ]\n",
    ")\n",
    "print(response.choices[0].message['content'])"
   ]
  }
 ],
 "metadata": {},
 "nbformat": 4,
 "nbformat_minor": 5
}
