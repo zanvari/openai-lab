{
 "cells": [
  {
   "cell_type": "markdown",
   "id": "42488023",
   "metadata": {},
   "source": [
    "# 👁️ GPT-4o Vision Input Example"
   ]
  },
  {
   "cell_type": "code",
   "execution_count": null,
   "id": "be8b36a2",
   "metadata": {},
   "outputs": [],
   "source": [
    "from PIL import Image\n",
    "import openai\n",
    "\n",
    "# Replace with actual image path or URL\n",
    "image_path = \"example.jpg\"\n",
    "\n",
    "with open(image_path, \"rb\") as img_file:\n",
    "    image_data = img_file.read()\n",
    "\n",
    "response = openai.ChatCompletion.create(\n",
    "    model=\"gpt-4o\",\n",
    "    messages=[\n",
    "        {\"role\": \"user\", \"content\": [\n",
    "            {\"type\": \"text\", \"text\": \"What’s in this image?\"},\n",
    "            {\"type\": \"image_url\", \"image_url\": {\"url\": \"data:image/jpeg;base64,\" + image_data.encode('base64')}}\n",
    "        ]}\n",
    "    ]\n",
    ")\n",
    "print(response.choices[0].message['content'])"
   ]
  }
 ],
 "metadata": {},
 "nbformat": 4,
 "nbformat_minor": 5
}
